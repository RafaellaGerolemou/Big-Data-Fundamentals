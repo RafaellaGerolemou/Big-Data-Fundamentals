{
 "cells": [
  {
   "cell_type": "code",
   "execution_count": 1,
   "metadata": {},
   "outputs": [],
   "source": [
    "#CS989 COURSEWORK\n",
    "#CHAPTER 2 OF COURSEWORK\n",
    "#DATASET // ANALYSIS\n",
    "\n",
    "#import the necessary libraries\n",
    "import pandas as pd\n",
    "import numpy as np\n",
    "import seaborn as sns\n",
    "import matplotlib.pyplot as plt"
   ]
  },
  {
   "cell_type": "code",
   "execution_count": 2,
   "metadata": {},
   "outputs": [],
   "source": [
    "#import the data set and read it\n",
    "breastcancer = pd.read_csv(\"breast-cancer.data\")\n",
    "#breastcancer.head(10)"
   ]
  },
  {
   "cell_type": "code",
   "execution_count": 3,
   "metadata": {},
   "outputs": [
    {
     "data": {
      "text/plain": [
       "(286, 10)"
      ]
     },
     "execution_count": 3,
     "metadata": {},
     "output_type": "execute_result"
    }
   ],
   "source": [
    "#to see how many observations and columns are\n",
    "breastcancer.shape"
   ]
  },
  {
   "cell_type": "code",
   "execution_count": 4,
   "metadata": {},
   "outputs": [
    {
     "data": {
      "text/plain": [
       "['class',\n",
       " 'age',\n",
       " 'menopause',\n",
       " 'tumor-size',\n",
       " 'invasive-nodes',\n",
       " 'node-caps',\n",
       " 'degree-of-malignancy',\n",
       " 'breast',\n",
       " 'breast-quadrants',\n",
       " 'irradiated']"
      ]
     },
     "execution_count": 4,
     "metadata": {},
     "output_type": "execute_result"
    }
   ],
   "source": [
    "#print the names of all of the columns\n",
    "breastcancer.columns.tolist()"
   ]
  },
  {
   "cell_type": "code",
   "execution_count": 5,
   "metadata": {},
   "outputs": [
    {
     "data": {
      "text/plain": [
       "class                    2\n",
       "age                      6\n",
       "menopause                3\n",
       "tumor-size              11\n",
       "invasive-nodes           7\n",
       "node-caps                3\n",
       "degree-of-malignancy     3\n",
       "breast                   2\n",
       "breast-quadrants         6\n",
       "irradiated               2\n",
       "dtype: int64"
      ]
     },
     "execution_count": 5,
     "metadata": {},
     "output_type": "execute_result"
    }
   ],
   "source": [
    "#how many different elements are in each column\n",
    "breastcancer.apply(lambda age: age.nunique())"
   ]
  },
  {
   "cell_type": "code",
   "execution_count": 6,
   "metadata": {},
   "outputs": [
    {
     "data": {
      "text/plain": [
       "class                   0\n",
       "age                     0\n",
       "menopause               0\n",
       "tumor-size              0\n",
       "invasive-nodes          0\n",
       "node-caps               0\n",
       "degree-of-malignancy    0\n",
       "breast                  0\n",
       "breast-quadrants        0\n",
       "irradiated              0\n",
       "dtype: int64"
      ]
     },
     "execution_count": 6,
     "metadata": {},
     "output_type": "execute_result"
    }
   ],
   "source": [
    "#checking for missing values\n",
    "breastcancer.isnull().sum()"
   ]
  },
  {
   "cell_type": "code",
   "execution_count": 7,
   "metadata": {},
   "outputs": [
    {
     "data": {
      "text/plain": [
       "class                   object\n",
       "age                     object\n",
       "menopause               object\n",
       "tumor-size              object\n",
       "invasive-nodes          object\n",
       "node-caps               object\n",
       "degree-of-malignancy     int64\n",
       "breast                  object\n",
       "breast-quadrants        object\n",
       "irradiated              object\n",
       "dtype: object"
      ]
     },
     "execution_count": 7,
     "metadata": {},
     "output_type": "execute_result"
    }
   ],
   "source": [
    "#to find the type of each column\n",
    "breastcancer.dtypes"
   ]
  },
  {
   "cell_type": "code",
   "execution_count": 8,
   "metadata": {},
   "outputs": [],
   "source": [
    "#to have easier calculations of the data set, we will categorize the elements in order to have only integer values\n",
    "\n",
    "#Category 1='no-recurrence-events'\n",
    "#Category 2='recurrence-events'\n",
    "breastcancer['class']=breastcancer['class'].replace('no-recurrence-events', 1).replace('recurrence-events', 2)\n",
    "\n",
    "#replace the age range column\n",
    "#Category 1='20-29'\n",
    "#Category 2='30-39'\n",
    "#Category 3='40-49'\n",
    "#Category 4='50-59'\n",
    "#Category 5='60-69'\n",
    "#Category 6='70-79'\n",
    "breastcancer['age']=breastcancer['age'].replace('20-29', 1).replace('30-39', 2).replace('40-49', 3).replace('50-59', 4).replace('60-69', 5).replace('70-79', 6)\n",
    "\n",
    "#replace the menopause column\n",
    "#Category 1='premeno'\n",
    "#Category 2='ge40'\n",
    "#Category 3='lt40'\n",
    "breastcancer['menopause']=breastcancer['menopause'].replace('premeno', 1).replace('ge40', 2).replace('lt40', 3)\n",
    "\n",
    "#replace the tumor-size range column\n",
    "#Category 1='0-4'\n",
    "#Category 2='5-9'\n",
    "#Category 3='10-14'\n",
    "#Category 4='15-19'\n",
    "#Category 5='20-24'\n",
    "#Category 6='25-29'\n",
    "#Category 7='30-34'\n",
    "#Category 8='35-39'\n",
    "#Category 9='40-44'\n",
    "#Category 10='45-49'\n",
    "#Category 11='50-54'\n",
    "breastcancer['tumor-size']=breastcancer['tumor-size'].replace('0-4', 1).replace('5-9', 2).replace('10-14', 3).replace('15-19', 4).replace('20-24', 5).replace('25-29', 6).replace('30-34', 7).replace('35-39', 8).replace('40-44', 9).replace('45-49', 10).replace('50-54', 11)\n",
    "\n",
    "#replace the invasive-nodes range column\n",
    "#Category 1='0-2'\n",
    "#Category 2='3-5'\n",
    "#Category 3='6-8'\n",
    "#Category 4='9-11'\n",
    "#Category 5='12-14'\n",
    "#Category 6='15-17'\n",
    "#Category 7='24-26'\n",
    "breastcancer['invasive-nodes']=breastcancer['invasive-nodes'].replace('0-2', 1).replace('3-5', 2).replace('6-8', 3).replace('9-11', 4).replace('12-14', 5).replace('15-17', 6).replace('24-26', 7)\n",
    "\n",
    "#replace the node-caps column\n",
    "#Category 1='no'\n",
    "#Category 2='yes'\n",
    "breastcancer['node-caps']=breastcancer['node-caps'].replace('no', 1).replace('yes', 2)\n",
    "\n",
    "#replace the breast column\n",
    "#Category 1='left'\n",
    "#Category 2='right'\n",
    "breastcancer['breast']=breastcancer['breast'].replace('left', 1).replace('right', 2)\n",
    "\n",
    "#replace the breast-quadrants column\n",
    "#Category 1='left_low'\n",
    "#Category 2='right_up'\n",
    "#Category 3='left_up'\n",
    "#Category 4='right_low'\n",
    "#Category 5='central'\n",
    "breastcancer['breast-quadrants']=breastcancer['breast-quadrants'].replace('left_low', 1).replace('right_up', 2).replace('left_up', 3).replace('right_low', 4).replace('central', 5)\n",
    "\n",
    "#replace the irradiated column\n",
    "#Category 1='no'\n",
    "#Category 2='yes'\n",
    "breastcancer['irradiated']=breastcancer['irradiated'].replace('no', 1).replace('yes', 2)"
   ]
  },
  {
   "cell_type": "code",
   "execution_count": 9,
   "metadata": {},
   "outputs": [
    {
     "data": {
      "text/plain": [
       "class                    int64\n",
       "age                      int64\n",
       "menopause                int64\n",
       "tumor-size               int64\n",
       "invasive-nodes           int64\n",
       "node-caps               object\n",
       "degree-of-malignancy     int64\n",
       "breast                   int64\n",
       "breast-quadrants        object\n",
       "irradiated               int64\n",
       "dtype: object"
      ]
     },
     "execution_count": 9,
     "metadata": {},
     "output_type": "execute_result"
    }
   ],
   "source": [
    "#confirming if all the dataset contains integer values\n",
    "breastcancer.dtypes"
   ]
  },
  {
   "cell_type": "code",
   "execution_count": 10,
   "metadata": {},
   "outputs": [
    {
     "name": "stderr",
     "output_type": "stream",
     "text": [
      "/Users/rafaellayerolemou/opt/anaconda3/lib/python3.7/site-packages/pandas/core/ops/array_ops.py:253: FutureWarning: elementwise comparison failed; returning scalar instead, but in the future will perform elementwise comparison\n",
      "  res_values = method(rvalues)\n"
     ]
    }
   ],
   "source": [
    "#looking that the node-caps and the breast-qudrants are not integer values\n",
    "breastcancer['node-caps'].tolist()\n",
    "breastcancer['breast-quadrants'].tolist()\n",
    "#the columns have some missing values, described with the ? symbol\n",
    "#removing the rows that contain the ? symbol from all the dataset\n",
    "breastcancer = breastcancer[(breastcancer != '?').all(axis=1)]"
   ]
  },
  {
   "cell_type": "code",
   "execution_count": 11,
   "metadata": {},
   "outputs": [],
   "source": [
    "breastcancer['node-caps']=breastcancer['node-caps'].astype(str).astype('int64')\n",
    "breastcancer['breast-quadrants']=breastcancer['breast-quadrants'].astype(str).astype('int64')"
   ]
  },
  {
   "cell_type": "code",
   "execution_count": 12,
   "metadata": {},
   "outputs": [
    {
     "data": {
      "text/plain": [
       "class                   int64\n",
       "age                     int64\n",
       "menopause               int64\n",
       "tumor-size              int64\n",
       "invasive-nodes          int64\n",
       "node-caps               int64\n",
       "degree-of-malignancy    int64\n",
       "breast                  int64\n",
       "breast-quadrants        int64\n",
       "irradiated              int64\n",
       "dtype: object"
      ]
     },
     "execution_count": 12,
     "metadata": {},
     "output_type": "execute_result"
    }
   ],
   "source": [
    "breastcancer.dtypes"
   ]
  },
  {
   "cell_type": "code",
   "execution_count": 13,
   "metadata": {},
   "outputs": [
    {
     "data": {
      "image/png": "[encoded data removed]",
      "text/plain": [
       "<Figure size 432x288 with 1 Axes>"
      ]
     },
     "metadata": {
      "needs_background": "light"
     },
     "output_type": "display_data"
    },
    {
     "name": "stdout",
     "output_type": "stream",
     "text": [
      "age\n",
      "1     1\n",
      "2    36\n",
      "3    89\n",
      "4    91\n",
      "5    55\n",
      "6     5\n",
      "dtype: int64\n"
     ]
    }
   ],
   "source": [
    "#bar chart showing the number of women with breast cancer by age\n",
    "breastcancer['age'].value_counts().sort_index().plot.bar(color='steelblue')\n",
    "plt.title('Number of women by age')\n",
    "plt.ylabel('Number of women')\n",
    "plt.xlabel('Age range')\n",
    "plt.grid(True)\n",
    "#replacing the X-labels with the age range\n",
    "plt.xticks([0,1,2,3,4,5],[\"20-29\",\"30-39\",\"40-49\",\"50-59\",\"60-69\",\"70-79\"])\n",
    "plt.xticks(rotation=360, horizontalalignment=\"center\")\n",
    "plt.savefig('Fig2.1.png')\n",
    "plt.show()\n",
    "#printing number of women in each age range\n",
    "print(breastcancer.groupby(['age']).size())"
   ]
  },
  {
   "cell_type": "code",
   "execution_count": 14,
   "metadata": {},
   "outputs": [
    {
     "data": {
      "image/png": "[encoded data removed]",
      "text/plain": [
       "<Figure size 432x288 with 1 Axes>"
      ]
     },
     "metadata": {
      "needs_background": "light"
     },
     "output_type": "display_data"
    },
    {
     "name": "stdout",
     "output_type": "stream",
     "text": [
      "menopause\n",
      "1    149\n",
      "2    123\n",
      "3      5\n",
      "dtype: int64\n"
     ]
    }
   ],
   "source": [
    "#bar chart showing the three different categories of the menopause for each case\n",
    "breastcancer['menopause'].value_counts().plot.bar(color='steelblue')\n",
    "plt.title('Number of women by their menopause status')\n",
    "plt.ylabel('Number of women')\n",
    "plt.xlabel('Menopause status')\n",
    "plt.grid(True)\n",
    "plt.xticks([0,1,2], [\"premeno\", \"≥40\", \"<40\"])\n",
    "plt.xticks(rotation=360, horizontalalignment=\"center\")\n",
    "plt.savefig('fig2.2.png')\n",
    "plt.show()\n",
    "#printing number of women in each menopause stage\n",
    "print(breastcancer.groupby(['menopause']).size())"
   ]
  },
  {
   "cell_type": "code",
   "execution_count": 15,
   "metadata": {},
   "outputs": [],
   "source": [
    "#creating a new dataframe, containing the tumor-size, the invasive-nodes, the node-caps and the degree-of-malignancy columns\n",
    "data = {'tumor-size':breastcancer['tumor-size'],\n",
    "        'invasive-nodes':breastcancer['invasive-nodes'],\n",
    "        'node-caps':breastcancer['node-caps'],\n",
    "        'degree-of-malignancy':breastcancer['degree-of-malignancy']}\n",
    "df_breastcancer = pd.DataFrame(data, columns=['tumor-size','invasive-nodes','node-caps','degree-of-malignancy'])\n",
    "#print(df_breastcancer)"
   ]
  },
  {
   "cell_type": "code",
   "execution_count": 16,
   "metadata": {},
   "outputs": [
    {
     "data": {
      "image/png": "[encoded data removed]",
      "text/plain": [
       "<Figure size 432x288 with 1 Axes>"
      ]
     },
     "metadata": {
      "needs_background": "light"
     },
     "output_type": "display_data"
    },
    {
     "name": "stdout",
     "output_type": "stream",
     "text": [
      "tumor-size\n",
      "1      8\n",
      "2      4\n",
      "3     28\n",
      "4     29\n",
      "5     48\n",
      "6     51\n",
      "7     57\n",
      "8     19\n",
      "9     22\n",
      "10     3\n",
      "11     8\n",
      "dtype: int64\n"
     ]
    }
   ],
   "source": [
    "#bar chart showing the number of women affected by the tumor size\n",
    "breastcancer['tumor-size'].value_counts().sort_index().plot.bar(color='steelblue')\n",
    "plt.title('Number of women by tumor size')\n",
    "plt.ylabel('Number of women')\n",
    "plt.xlabel('Tumor size (in millimetre)')\n",
    "plt.grid(True)\n",
    "plt.xticks([0,1,2,3,4,5,6,7,8,9,10],\n",
    "           [\"0-4\",\"5-9\",\"10-14\",\"15-19\",\"20-24\",\"25-29\",\"30-34\",\"35-39\",\"40-44\",\"45-49\",\"50-54\"])\n",
    "plt.xticks(rotation=30, horizontalalignment=\"center\")\n",
    "plt.savefig('fig2.3.png')\n",
    "plt.show()\n",
    "#printing number of women in each menopause stage\n",
    "print(breastcancer.groupby(['tumor-size']).size())"
   ]
  },
  {
   "cell_type": "code",
   "execution_count": 17,
   "metadata": {},
   "outputs": [
    {
     "data": {
      "text/html": [
       "<div>\n",
       "<style scoped>\n",
       "    .dataframe tbody tr th:only-of-type {\n",
       "        vertical-align: middle;\n",
       "    }\n",
       "\n",
       "    .dataframe tbody tr th {\n",
       "        vertical-align: top;\n",
       "    }\n",
       "\n",
       "    .dataframe thead th {\n",
       "        text-align: right;\n",
       "    }\n",
       "</style>\n",
       "<table border=\"1\" class=\"dataframe\">\n",
       "  <thead>\n",
       "    <tr style=\"text-align: right;\">\n",
       "      <th></th>\n",
       "      <th>tumor-size</th>\n",
       "      <th>invasive-nodes</th>\n",
       "      <th>node-caps</th>\n",
       "      <th>degree-of-malignancy</th>\n",
       "    </tr>\n",
       "  </thead>\n",
       "  <tbody>\n",
       "    <tr>\n",
       "      <th>0</th>\n",
       "      <td>7</td>\n",
       "      <td>1</td>\n",
       "      <td>1</td>\n",
       "      <td>3</td>\n",
       "    </tr>\n",
       "    <tr>\n",
       "      <th>1</th>\n",
       "      <td>5</td>\n",
       "      <td>1</td>\n",
       "      <td>1</td>\n",
       "      <td>2</td>\n",
       "    </tr>\n",
       "    <tr>\n",
       "      <th>2</th>\n",
       "      <td>5</td>\n",
       "      <td>1</td>\n",
       "      <td>1</td>\n",
       "      <td>2</td>\n",
       "    </tr>\n",
       "    <tr>\n",
       "      <th>3</th>\n",
       "      <td>4</td>\n",
       "      <td>1</td>\n",
       "      <td>1</td>\n",
       "      <td>2</td>\n",
       "    </tr>\n",
       "    <tr>\n",
       "      <th>4</th>\n",
       "      <td>1</td>\n",
       "      <td>1</td>\n",
       "      <td>1</td>\n",
       "      <td>2</td>\n",
       "    </tr>\n",
       "  </tbody>\n",
       "</table>\n",
       "</div>"
      ],
      "text/plain": [
       "   tumor-size  invasive-nodes  node-caps  degree-of-malignancy\n",
       "0           7               1          1                     3\n",
       "1           5               1          1                     2\n",
       "2           5               1          1                     2\n",
       "3           4               1          1                     2\n",
       "4           1               1          1                     2"
      ]
     },
     "execution_count": 17,
     "metadata": {},
     "output_type": "execute_result"
    }
   ],
   "source": [
    "df_breastcancer.head()"
   ]
  },
  {
   "cell_type": "code",
   "execution_count": 18,
   "metadata": {},
   "outputs": [
    {
     "data": {
      "image/png": "[encoded data removed]",
      "text/plain": [
       "<Figure size 432x288 with 1 Axes>"
      ]
     },
     "metadata": {
      "needs_background": "light"
     },
     "output_type": "display_data"
    },
    {
     "name": "stdout",
     "output_type": "stream",
     "text": [
      "tumor-size  degree-of-malignancy\n",
      "1           1                        3\n",
      "            2                        4\n",
      "            3                        1\n",
      "2           1                        2\n",
      "            2                        2\n",
      "3           1                       14\n",
      "            2                       12\n",
      "            3                        2\n",
      "4           1                        8\n",
      "            2                       15\n",
      "            3                        6\n",
      "5           1                        8\n",
      "            2                       27\n",
      "            3                       13\n",
      "6           1                        9\n",
      "            2                       25\n",
      "            3                       17\n",
      "7           1                       13\n",
      "            2                       21\n",
      "            3                       23\n",
      "8           1                        2\n",
      "            2                        7\n",
      "            3                       10\n",
      "9           1                        5\n",
      "            2                        9\n",
      "            3                        8\n",
      "10          1                        1\n",
      "            2                        1\n",
      "            3                        1\n",
      "11          1                        1\n",
      "            2                        6\n",
      "            3                        1\n",
      "dtype: int64\n"
     ]
    }
   ],
   "source": [
    "#stacked plot showing the degree of malignancy in each tumor size\n",
    "df_breastcancer.groupby(['tumor-size','degree-of-malignancy']).size().unstack().plot(kind='bar', color=['lightcoral','yellowgreen','steelblue'])\n",
    "plt.title('Degree of malignancy for each tumor size')\n",
    "plt.ylabel('Number of women')\n",
    "plt.xlabel('Tumor size')\n",
    "plt.grid(True)\n",
    "plt.xticks([0,1,2,3,4,5,6,7,8,9,10],\n",
    "           [\"0-4\",\"5-9\",\"10-14\",\"15-19\",\"20-24\",\"25-29\",\"30-34\",\"35-39\",\"40-44\",\"45-49\",\"50-54\"])\n",
    "plt.xticks(rotation=30, horizontalalignment=\"center\")\n",
    "plt.legend(title=\"Degree of malignancy\", fontsize='small', fancybox=True)\n",
    "plt.savefig('Fig2.4.png')\n",
    "plt.show()\n",
    "#printing the degree of malignancy in each tumor size\n",
    "print(breastcancer.groupby(['tumor-size','degree-of-malignancy']).size())"
   ]
  },
  {
   "cell_type": "code",
   "execution_count": 19,
   "metadata": {},
   "outputs": [
    {
     "data": {
      "image/png": "[encoded data removed]",
      "text/plain": [
       "<Figure size 432x288 with 1 Axes>"
      ]
     },
     "metadata": {
      "needs_background": "light"
     },
     "output_type": "display_data"
    },
    {
     "name": "stdout",
     "output_type": "stream",
     "text": [
      "invasive-nodes  degree-of-malignancy\n",
      "1               1                       65\n",
      "                2                       97\n",
      "                3                       47\n",
      "2               1                        1\n",
      "                2                       20\n",
      "                3                       13\n",
      "3               2                        7\n",
      "                3                       10\n",
      "4               2                        4\n",
      "                3                        3\n",
      "5               3                        3\n",
      "6               2                        1\n",
      "                3                        5\n",
      "7               3                        1\n",
      "dtype: int64\n"
     ]
    }
   ],
   "source": [
    "#stacked plot showing the degree of malignancy in each invasive node\n",
    "df_breastcancer.groupby(['invasive-nodes','degree-of-malignancy']).size().unstack().plot(kind='bar', color=['lightcoral','yellowgreen','steelblue'])\n",
    "plt.title('Degree of malignancy in each invasive node')\n",
    "plt.ylabel('Number of women')\n",
    "plt.xlabel('Invasive nodes')\n",
    "plt.grid(True)\n",
    "plt.xticks([0,1,2,3,4,5,6],\n",
    "          [\"0-2\",\"3-5\",\"6-8\",\"9-11\",\"12-14\",\"15-17\",\"24-26\"])\n",
    "plt.xticks(rotation=360, horizontalalignment=\"center\")\n",
    "plt.legend(title='Degree of malignancy',fontsize='small', fancybox=True)\n",
    "plt.savefig('Fig2.5.png')\n",
    "plt.show()\n",
    "\n",
    "print(breastcancer.groupby(['invasive-nodes','degree-of-malignancy']).size())"
   ]
  },
  {
   "cell_type": "code",
   "execution_count": 20,
   "metadata": {},
   "outputs": [
    {
     "data": {
      "image/png": "[encoded data removed]",
      "text/plain": [
       "<Figure size 432x288 with 1 Axes>"
      ]
     },
     "metadata": {
      "needs_background": "light"
     },
     "output_type": "display_data"
    },
    {
     "name": "stdout",
     "output_type": "stream",
     "text": [
      "invasive-nodes  node-caps\n",
      "1               1            200\n",
      "                2              9\n",
      "2               1             15\n",
      "                2             19\n",
      "3               1              3\n",
      "                2             14\n",
      "4               1              1\n",
      "                2              6\n",
      "5               1              1\n",
      "                2              2\n",
      "6               1              1\n",
      "                2              5\n",
      "7               2              1\n",
      "dtype: int64\n"
     ]
    }
   ],
   "source": [
    "#stacked plot showing if there are node caps in each invasive node\n",
    "df_breastcancer.groupby(['invasive-nodes','node-caps']).size().unstack().plot(kind='bar', color=['steelblue','yellowgreen'])\n",
    "plt.title('Node caps in each invasive node')\n",
    "plt.ylabel('Number of women')\n",
    "plt.xlabel('Invasive nodes')\n",
    "plt.grid(True)\n",
    "plt.xticks([0,1,2,3,4,5,6],\n",
    "          [\"0-2\",\"3-5\",\"6-8\",\"9-11\",\"12-14\",\"15-17\",\"24-26\"])\n",
    "plt.xticks(rotation=360, horizontalalignment=\"center\")\n",
    "plt.legend(fontsize='large', fancybox=True)\n",
    "plt.legend([\"No\",\"Yes\"], title=\"Node caps\")\n",
    "plt.savefig('Fig2.6.png')\n",
    "plt.show()\n",
    "#printing the number of each case\n",
    "print(breastcancer.groupby(['invasive-nodes','node-caps']).size())"
   ]
  },
  {
   "cell_type": "code",
   "execution_count": 21,
   "metadata": {},
   "outputs": [
    {
     "data": {
      "image/png": "[encoded data removed]",
      "text/plain": [
       "<Figure size 432x288 with 1 Axes>"
      ]
     },
     "metadata": {
      "needs_background": "light"
     },
     "output_type": "display_data"
    },
    {
     "name": "stdout",
     "output_type": "stream",
     "text": [
      "breast-quadrants  breast\n",
      "1                 1         75\n",
      "                  2         31\n",
      "2                 1          9\n",
      "                  2         24\n",
      "3                 1         34\n",
      "                  2         60\n",
      "4                 1         16\n",
      "                  2          7\n",
      "5                 1         11\n",
      "                  2         10\n",
      "dtype: int64\n"
     ]
    }
   ],
   "source": [
    "#stacked plot showing the most common position of the breast cancer\n",
    "breastcancer.groupby(['breast-quadrants','breast']).size().unstack().plot(kind='bar', color=['steelblue','yellowgreen'])\n",
    "plt.title('Breast cancer position')\n",
    "plt.ylabel('Number of women')\n",
    "plt.xlabel('Breast quadrants')\n",
    "plt.grid(True)\n",
    "plt.xticks([0,1,2,3,4],\n",
    "          [\"left low\",\"right up\",\"left up\",\"right low\",\"central\"])\n",
    "plt.xticks(rotation=360, horizontalalignment=\"center\")\n",
    "plt.legend(fontsize='small', fancybox=True)\n",
    "plt.legend([\"Left\",\"Right\"], title=\"Breast side\")\n",
    "plt.savefig('Fig2.7.png')\n",
    "plt.show()\n",
    "#printing the number of each quadrant\n",
    "print(breastcancer.groupby(['breast-quadrants','breast']).size())"
   ]
  },
  {
   "cell_type": "code",
   "execution_count": 22,
   "metadata": {},
   "outputs": [
    {
     "data": {
      "image/png": "[encoded data removed]",
      "text/plain": [
       "<Figure size 432x288 with 1 Axes>"
      ]
     },
     "metadata": {
      "needs_background": "light"
     },
     "output_type": "display_data"
    },
    {
     "name": "stdout",
     "output_type": "stream",
     "text": [
      "irradiated\n",
      "1    215\n",
      "2     62\n",
      "dtype: int64\n"
     ]
    }
   ],
   "source": [
    "#plot bar showing the number of women whether had a radiation therapy history\n",
    "breastcancer['irradiated'].value_counts().sort_index().plot.bar(color='steelblue')\n",
    "plt.title('Number of women and their radiation therapy history')\n",
    "plt.ylabel('Number of women')\n",
    "plt.xlabel('Radiation therapy history')\n",
    "plt.grid(True)\n",
    "plt.xticks([0,1], [\"No\", \"Yes\"])\n",
    "plt.xticks(rotation=360, horizontalalignment=\"center\")\n",
    "plt.savefig('Fig2.8.png')\n",
    "plt.show()\n",
    "#printing the number of each condition\n",
    "print(breastcancer.groupby(['irradiated']).size())"
   ]
  },
  {
   "cell_type": "code",
   "execution_count": 23,
   "metadata": {},
   "outputs": [
    {
     "data": {
      "image/png": "[encoded data removed]",
      "text/plain": [
       "<Figure size 432x288 with 2 Axes>"
      ]
     },
     "metadata": {
      "needs_background": "light"
     },
     "output_type": "display_data"
    }
   ],
   "source": [
    "#heatmap showing the correlation between the whole data values\n",
    "corr = breastcancer.corr()\n",
    "sns.heatmap(corr, cmap='YlGnBu')\n",
    "plt.savefig('Fig2.9.png')\n",
    "plt.show()"
   ]
  },
  {
   "cell_type": "code",
   "execution_count": 24,
   "metadata": {},
   "outputs": [],
   "source": [
    "#CHAPTER 3 OF COURSEWORK\n",
    "#3 UNSUPERVISED ANALYSIS\n",
    "\n",
    "#import the necessary libraries\n",
    "from sklearn import cluster \n",
    "from sklearn import metrics\n",
    "from sklearn.preprocessing import scale\n",
    "from sklearn.preprocessing import LabelEncoder"
   ]
  },
  {
   "cell_type": "code",
   "execution_count": 25,
   "metadata": {},
   "outputs": [
    {
     "data": {
      "text/html": [
       "<div>\n",
       "<style scoped>\n",
       "    .dataframe tbody tr th:only-of-type {\n",
       "        vertical-align: middle;\n",
       "    }\n",
       "\n",
       "    .dataframe tbody tr th {\n",
       "        vertical-align: top;\n",
       "    }\n",
       "\n",
       "    .dataframe thead th {\n",
       "        text-align: right;\n",
       "    }\n",
       "</style>\n",
       "<table border=\"1\" class=\"dataframe\">\n",
       "  <thead>\n",
       "    <tr style=\"text-align: right;\">\n",
       "      <th></th>\n",
       "      <th>class</th>\n",
       "      <th>age</th>\n",
       "      <th>menopause</th>\n",
       "      <th>tumor-size</th>\n",
       "      <th>invasive-nodes</th>\n",
       "      <th>node-caps</th>\n",
       "      <th>degree-of-malignancy</th>\n",
       "      <th>breast</th>\n",
       "      <th>breast-quadrants</th>\n",
       "      <th>irradiated</th>\n",
       "    </tr>\n",
       "  </thead>\n",
       "  <tbody>\n",
       "    <tr>\n",
       "      <th>0</th>\n",
       "      <td>1</td>\n",
       "      <td>2</td>\n",
       "      <td>1</td>\n",
       "      <td>7</td>\n",
       "      <td>1</td>\n",
       "      <td>1</td>\n",
       "      <td>3</td>\n",
       "      <td>1</td>\n",
       "      <td>1</td>\n",
       "      <td>1</td>\n",
       "    </tr>\n",
       "    <tr>\n",
       "      <th>1</th>\n",
       "      <td>1</td>\n",
       "      <td>3</td>\n",
       "      <td>1</td>\n",
       "      <td>5</td>\n",
       "      <td>1</td>\n",
       "      <td>1</td>\n",
       "      <td>2</td>\n",
       "      <td>2</td>\n",
       "      <td>2</td>\n",
       "      <td>1</td>\n",
       "    </tr>\n",
       "    <tr>\n",
       "      <th>2</th>\n",
       "      <td>1</td>\n",
       "      <td>3</td>\n",
       "      <td>1</td>\n",
       "      <td>5</td>\n",
       "      <td>1</td>\n",
       "      <td>1</td>\n",
       "      <td>2</td>\n",
       "      <td>1</td>\n",
       "      <td>1</td>\n",
       "      <td>1</td>\n",
       "    </tr>\n",
       "    <tr>\n",
       "      <th>3</th>\n",
       "      <td>1</td>\n",
       "      <td>5</td>\n",
       "      <td>2</td>\n",
       "      <td>4</td>\n",
       "      <td>1</td>\n",
       "      <td>1</td>\n",
       "      <td>2</td>\n",
       "      <td>2</td>\n",
       "      <td>3</td>\n",
       "      <td>1</td>\n",
       "    </tr>\n",
       "    <tr>\n",
       "      <th>4</th>\n",
       "      <td>1</td>\n",
       "      <td>3</td>\n",
       "      <td>1</td>\n",
       "      <td>1</td>\n",
       "      <td>1</td>\n",
       "      <td>1</td>\n",
       "      <td>2</td>\n",
       "      <td>2</td>\n",
       "      <td>4</td>\n",
       "      <td>1</td>\n",
       "    </tr>\n",
       "    <tr>\n",
       "      <th>...</th>\n",
       "      <td>...</td>\n",
       "      <td>...</td>\n",
       "      <td>...</td>\n",
       "      <td>...</td>\n",
       "      <td>...</td>\n",
       "      <td>...</td>\n",
       "      <td>...</td>\n",
       "      <td>...</td>\n",
       "      <td>...</td>\n",
       "      <td>...</td>\n",
       "    </tr>\n",
       "    <tr>\n",
       "      <th>281</th>\n",
       "      <td>2</td>\n",
       "      <td>2</td>\n",
       "      <td>1</td>\n",
       "      <td>7</td>\n",
       "      <td>1</td>\n",
       "      <td>1</td>\n",
       "      <td>2</td>\n",
       "      <td>1</td>\n",
       "      <td>3</td>\n",
       "      <td>1</td>\n",
       "    </tr>\n",
       "    <tr>\n",
       "      <th>282</th>\n",
       "      <td>2</td>\n",
       "      <td>2</td>\n",
       "      <td>1</td>\n",
       "      <td>5</td>\n",
       "      <td>1</td>\n",
       "      <td>1</td>\n",
       "      <td>3</td>\n",
       "      <td>1</td>\n",
       "      <td>3</td>\n",
       "      <td>2</td>\n",
       "    </tr>\n",
       "    <tr>\n",
       "      <th>283</th>\n",
       "      <td>2</td>\n",
       "      <td>5</td>\n",
       "      <td>2</td>\n",
       "      <td>5</td>\n",
       "      <td>1</td>\n",
       "      <td>1</td>\n",
       "      <td>1</td>\n",
       "      <td>2</td>\n",
       "      <td>3</td>\n",
       "      <td>1</td>\n",
       "    </tr>\n",
       "    <tr>\n",
       "      <th>284</th>\n",
       "      <td>2</td>\n",
       "      <td>3</td>\n",
       "      <td>2</td>\n",
       "      <td>7</td>\n",
       "      <td>2</td>\n",
       "      <td>1</td>\n",
       "      <td>3</td>\n",
       "      <td>1</td>\n",
       "      <td>1</td>\n",
       "      <td>1</td>\n",
       "    </tr>\n",
       "    <tr>\n",
       "      <th>285</th>\n",
       "      <td>2</td>\n",
       "      <td>4</td>\n",
       "      <td>2</td>\n",
       "      <td>7</td>\n",
       "      <td>2</td>\n",
       "      <td>1</td>\n",
       "      <td>3</td>\n",
       "      <td>1</td>\n",
       "      <td>1</td>\n",
       "      <td>1</td>\n",
       "    </tr>\n",
       "  </tbody>\n",
       "</table>\n",
       "<p>277 rows × 10 columns</p>\n",
       "</div>"
      ],
      "text/plain": [
       "     class  age  menopause  tumor-size  invasive-nodes  node-caps  \\\n",
       "0        1    2          1           7               1          1   \n",
       "1        1    3          1           5               1          1   \n",
       "2        1    3          1           5               1          1   \n",
       "3        1    5          2           4               1          1   \n",
       "4        1    3          1           1               1          1   \n",
       "..     ...  ...        ...         ...             ...        ...   \n",
       "281      2    2          1           7               1          1   \n",
       "282      2    2          1           5               1          1   \n",
       "283      2    5          2           5               1          1   \n",
       "284      2    3          2           7               2          1   \n",
       "285      2    4          2           7               2          1   \n",
       "\n",
       "     degree-of-malignancy  breast  breast-quadrants  irradiated  \n",
       "0                       3       1                 1           1  \n",
       "1                       2       2                 2           1  \n",
       "2                       2       1                 1           1  \n",
       "3                       2       2                 3           1  \n",
       "4                       2       2                 4           1  \n",
       "..                    ...     ...               ...         ...  \n",
       "281                     2       1                 3           1  \n",
       "282                     3       1                 3           2  \n",
       "283                     1       2                 3           1  \n",
       "284                     3       1                 1           1  \n",
       "285                     3       1                 1           1  \n",
       "\n",
       "[277 rows x 10 columns]"
      ]
     },
     "execution_count": 25,
     "metadata": {},
     "output_type": "execute_result"
    }
   ],
   "source": [
    "#breastcancer VS. breastcancer.values\n",
    "breastcancer"
   ]
  },
  {
   "cell_type": "code",
   "execution_count": 26,
   "metadata": {},
   "outputs": [],
   "source": [
    "#segment the outcome and the remaining data to use the attributes for clustering\n",
    "X = breastcancer.values[:,1:5]\n",
    "Y = breastcancer.values[:,0]\n",
    "\n",
    "#printing the X and Y\n",
    "#print(X)\n",
    "#print(Y)"
   ]
  },
  {
   "cell_type": "code",
   "execution_count": 27,
   "metadata": {},
   "outputs": [
    {
     "data": {
      "text/plain": [
       "array([[-1.6290778 , -0.89827964,  0.52576065, -0.45228071],\n",
       "       [-0.63730956, -0.89827964, -0.41382451, -0.45228071],\n",
       "       [-0.63730956, -0.89827964, -0.41382451, -0.45228071],\n",
       "       ...,\n",
       "       [ 1.34622693,  0.97257344, -0.41382451, -0.45228071],\n",
       "       [-0.63730956,  0.97257344,  0.52576065,  0.46218467],\n",
       "       [ 0.35445869,  0.97257344,  0.52576065,  0.46218467]])"
      ]
     },
     "execution_count": 27,
     "metadata": {},
     "output_type": "execute_result"
    }
   ],
   "source": [
    "#scale the data that we are going to use for the clustering\n",
    "scaled_breast = scale(X)\n",
    "scaled_breast"
   ]
  },
  {
   "cell_type": "code",
   "execution_count": 28,
   "metadata": {},
   "outputs": [
    {
     "name": "stdout",
     "output_type": "stream",
     "text": [
      "scaled_breast\n",
      "mean= [ 1.60321014e-16  9.61926086e-17 -3.84770435e-17  1.02605449e-16]\n",
      "std= [1. 1. 1. 1.]\n",
      "min= [-2.62084604 -0.89827964 -2.29299483 -0.45228071]\n",
      "max= [2.33799517 2.84342652 2.40493097 5.03451154]\n",
      "Not scaled_breast\n",
      "mean= [3.64259928 1.4801444  5.88086643 1.49458484]\n",
      "std= [1.00830008 0.53451552 2.12859896 1.09353512]\n",
      "min= [1. 1. 1. 1.]\n",
      "max= [ 6.  3. 11.  7.]\n"
     ]
    }
   ],
   "source": [
    "#data VS. breast_data\n",
    "#data\n",
    "X = np.array(X,dtype=np.float64)\n",
    "print(\"scaled_breast\")\n",
    "print(\"mean=\",scaled_breast.mean(axis=0))\n",
    "print(\"std=\",scaled_breast.std(axis=0))\n",
    "print(\"min=\",scaled_breast.min(axis=0))\n",
    "print(\"max=\",scaled_breast.max(axis=0))\n",
    "\n",
    "#breast_data\n",
    "print(\"Not scaled_breast\")\n",
    "print(\"mean=\",X.mean(axis=0))\n",
    "print(\"std=\",X.std(axis=0))\n",
    "print(\"min=\",X.min(axis=0))\n",
    "print(\"max=\",X.max(axis=0))"
   ]
  },
  {
   "cell_type": "code",
   "execution_count": 41,
   "metadata": {},
   "outputs": [
    {
     "name": "stdout",
     "output_type": "stream",
     "text": [
      "Max silhouette_score:  ['euclidean', 'complete', 2, 0.46880138992192716, 0.049201183280958516, 0.012648191237977401]\n"
     ]
    }
   ],
   "source": [
    "#selecting the number of clusters\n",
    "n_samples, n_features = scaled_breast.shape\n",
    "n_digits = len(np.unique(Y))\n",
    "Y2 = LabelEncoder().fit_transform(Y)\n",
    "aff = [\"euclidean\", \"l1\", \"l2\", \"manhattan\", \"cosine\"]\n",
    "link = [\"ward\", \"complete\", \"average\"] \n",
    "result = []\n",
    "for a in aff:\n",
    "    for l in link:\n",
    "      for i in range(2,5):\n",
    "        if(l==\"ward\" and a!=\"euclidean\"):\n",
    "           continue\n",
    "        else:\n",
    "            model = cluster.AgglomerativeClustering(n_clusters=i, linkage=l, affinity=a)\n",
    "            model.fit(scaled_breast)\n",
    "            result.append([a,l,i,metrics.silhouette_score(scaled_breast, model.labels_),metrics.completeness_score(Y2, model.labels_),metrics.homogeneity_score(Y2, model.labels_)])\n",
    "maxI = -1\n",
    "maxV = 0\n",
    "for i in range(0,len(result)):\n",
    "  #print(result[i])\n",
    "  if(result[i][3]>maxV):\n",
    "    maxV = result[i][3]\n",
    "    maxI = i\n",
    "print(\"Max silhouette_score: \", result[maxI])"
   ]
  },
  {
   "cell_type": "code",
   "execution_count": 31,
   "metadata": {},
   "outputs": [
    {
     "name": "stdout",
     "output_type": "stream",
     "text": [
      "                    Silhouette  Completeness  Homogeneity\n",
      "euclidean ward        0.379840      0.004618     0.005249\n",
      "euclidean complete    0.468801      0.049201     0.012648\n",
      "euclidean average     0.433739      0.066262     0.024207\n",
      "manhattan complete    0.433739      0.066262     0.024207\n",
      "manhattan average     0.464489      0.005369     0.000803\n",
      "cosine complete       0.366656      0.010808     0.012200\n",
      "cosine average        0.386335      0.003619     0.004134\n"
     ]
    }
   ],
   "source": [
    "print(df1)"
   ]
  },
  {
   "cell_type": "code",
   "execution_count": 37,
   "metadata": {},
   "outputs": [
    {
     "data": {
      "text/plain": [
       "['euclidean', 'manhattan', 'cosine']"
      ]
     },
     "execution_count": 37,
     "metadata": {},
     "output_type": "execute_result"
    }
   ],
   "source": [
    "aff"
   ]
  },
  {
   "cell_type": "code",
   "execution_count": 45,
   "metadata": {},
   "outputs": [
    {
     "data": {
      "text/plain": [
       "{'euclidean ward': [0.37984016601053333,\n",
       "  0.004617671436278621,\n",
       "  0.005248603472035136],\n",
       " 'euclidean complete': [0.46880138992192716,\n",
       "  0.049201183280958516,\n",
       "  0.012648191237977401],\n",
       " 'euclidean average': [0.43373887194299776,\n",
       "  0.06626157145769652,\n",
       "  0.02420666142127818],\n",
       " 'manhattan complete': [0.43373887194299776,\n",
       "  0.06626157145769652,\n",
       "  0.02420666142127818],\n",
       " 'manhattan average': [0.46448910449923164,\n",
       "  0.005368531615431542,\n",
       "  0.0008026722702258],\n",
       " 'cosine complete': [0.3666564694795495,\n",
       "  0.010807929888750909,\n",
       "  0.012200263213479702],\n",
       " 'cosine average': [0.38633549897641384,\n",
       "  0.0036191320889419954,\n",
       "  0.004133985414391853]}"
      ]
     },
     "execution_count": 45,
     "metadata": {},
     "output_type": "execute_result"
    }
   ],
   "source": [
    "scores1"
   ]
  },
  {
   "cell_type": "code",
   "execution_count": 30,
   "metadata": {},
   "outputs": [
    {
     "name": "stdout",
     "output_type": "stream",
     "text": [
      "                    Silhouette  Completeness  Homogeneity\n",
      "euclidean ward        0.379840      0.004618     0.005249\n",
      "euclidean complete    0.468801      0.049201     0.012648\n",
      "euclidean average     0.433739      0.066262     0.024207\n",
      "manhattan complete    0.433739      0.066262     0.024207\n",
      "manhattan average     0.464489      0.005369     0.000803\n",
      "cosine complete       0.366656      0.010808     0.012200\n",
      "cosine average        0.386335      0.003619     0.004134\n"
     ]
    },
    {
     "data": {
      "image/png": "[encoded data removed]",
      "text/plain": [
       "<Figure size 432x288 with 1 Axes>"
      ]
     },
     "metadata": {
      "needs_background": "light"
     },
     "output_type": "display_data"
    }
   ],
   "source": [
    "#3 UNSUPERVISED ANALYSIS - CLUSTERING // AGGLOMERATIVE CLUSTERING\n",
    "#FIGURE SHOWING THE AGGLOMERATIVE METHODS\n",
    "\n",
    "n_samples, n_features = scaled_breast.shape\n",
    "n_digits = len(np.unique(Y))\n",
    "Y2 = LabelEncoder().fit_transform(Y)\n",
    "aff = [\"euclidean\", \"manhattan\", \"cosine\"]\n",
    "link = [\"ward\", \"complete\", \"average\"] \n",
    "scores1={} \n",
    "for a in aff:\n",
    "    for l in link:\n",
    "        if(l==\"ward\" and a!=\"euclidean\"):\n",
    "           continue\n",
    "        else:\n",
    "            model = cluster.AgglomerativeClustering(n_clusters=n_digits, linkage=l, affinity=a)\n",
    "            model.fit(scaled_breast)\n",
    "            \n",
    "            col1=metrics.silhouette_score(scaled_breast, model.labels_)\n",
    "            col2=metrics.completeness_score(Y2, model.labels_)\n",
    "            col3=metrics.homogeneity_score(Y2, model.labels_)\n",
    "            \n",
    "            scores1['{} {}'.format(a,l)]=[col1,col2,col3]\n",
    "\n",
    "#creating a dataframe to contain the values for each score\n",
    "df1 = pd.DataFrame.from_dict(scores1, orient='index')\n",
    "df1 = df1.rename(columns={0:'Silhouette',1:'Completeness',2:'Homogeneity'})\n",
    "print(df1)\n",
    "\n",
    "from matplotlib.ticker import FormatStrFormatter\n",
    "\n",
    "#creating the stacked plot\n",
    "\n",
    "figure = df1[['Silhouette','Completeness','Homogeneity']].plot(kind=\"bar\", color=['lightcoral','yellowgreen','steelblue'])\n",
    "\n",
    "plt.title(\"Agglomerative methods\")\n",
    "plt.grid(True)\n",
    "plt.xticks([0,1,2,3,4,5,6],[\"Euclidean\\nWard\",\"Euclidean\\nComplete\",\"Euclidean\\nAverage\",\"Manhattan\\nComplete\",\"Manhattan\\nAverage\",\"Cosine\\nComplete\",\"Cosine\\nAverage\"])\n",
    "plt.xticks(rotation=30, horizontalalignment=\"center\")\n",
    "plt.savefig('Fig3.1.png')\n",
    "plt.show()"
   ]
  },
  {
   "cell_type": "code",
   "execution_count": 301,
   "metadata": {},
   "outputs": [
    {
     "name": "stdout",
     "output_type": "stream",
     "text": [
      "   Silhouette  Completeness  Homogeneity\n",
      "2    0.386335      0.003619     0.004134\n",
      "3    0.413947      0.030389     0.046178\n",
      "4    0.379467      0.026207     0.051326\n"
     ]
    },
    {
     "data": {
      "image/png": "[encoded data removed]",
      "text/plain": [
       "<Figure size 432x288 with 1 Axes>"
      ]
     },
     "metadata": {
      "needs_background": "light"
     },
     "output_type": "display_data"
    }
   ],
   "source": [
    "#3 UNSUPERVISED ANALYSIS - CLUSTERING // KMEANS CLUSTERING\n",
    "#finding the silhouette score, homogeneity and completeness for the different numbers of clusters created using kmeans\n",
    "#K-MEANS cluster\n",
    "n_samples, n_features = scaled_breast.shape\n",
    "n_digits = len(np.unique(Y))\n",
    "Y2 = LabelEncoder().fit_transform(Y)\n",
    "scores2={}\n",
    "for k in range(2, 5):\n",
    "    kmeans = cluster.KMeans(n_clusters=k)\n",
    "    kmeans.fit(scaled_breast)\n",
    "    col1 = metrics.silhouette_score(scaled_breast, kmeans.labels_)\n",
    "    col2 = metrics.completeness_score(Y2, kmeans.labels_)\n",
    "    col3 = metrics.homogeneity_score(Y2, kmeans.labels_)\n",
    "    \n",
    "    scores2[k] = [col1,col2,col3]\n",
    "\n",
    "df2 = pd.DataFrame.from_dict(scores2, orient='index')\n",
    "df2 = df2.rename(columns={0:'Silhouette',1:'Completeness',2:'Homogeneity'})\n",
    "print(df2)\n",
    "\n",
    "plt.plot(df2['Silhouette'], label=\"Silhouette\", color='lightcoral')\n",
    "plt.plot(df2['Completeness'], label=\"Completeness\", color='yellowgreen')\n",
    "plt.plot(df2['Homogeneity'], label=\"Homogeneity\", color='steelblue')\n",
    "plt.title('Results of Varying Clusters - KMeans')\n",
    "plt.xlabel('Number of Clusters')\n",
    "plt.grid(True)\n",
    "plt.legend(loc=\"upper right\")\n",
    "plt.savefig('Fig3.2.png')\n",
    "plt.show()"
   ]
  },
  {
   "cell_type": "code",
   "execution_count": 302,
   "metadata": {},
   "outputs": [
    {
     "data": {
      "text/plain": [
       "2"
      ]
     },
     "execution_count": 302,
     "metadata": {},
     "output_type": "execute_result"
    }
   ],
   "source": [
    "#the best combination\n",
    "len(np.unique(Y))"
   ]
  },
  {
   "cell_type": "code",
   "execution_count": 303,
   "metadata": {},
   "outputs": [],
   "source": [
    "#CHAPTER 4 OF COURSEWORK\n",
    "# SUPERVISED ANALYSIS\n",
    "\n",
    "#segment the outcome and the remaining data to use the attributes for clustering\n",
    "breastData = breastcancer.values[:,1:]\n",
    "breastTarget = breastcancer.values[:,0]"
   ]
  },
  {
   "cell_type": "code",
   "execution_count": 304,
   "metadata": {},
   "outputs": [],
   "source": [
    "#segment the data in a training and test set with a 70/30 split/observations\n",
    "from sklearn import model_selection\n",
    "X_train, X_test, Y_train, Y_test = model_selection.train_test_split(breastData, breastTarget, test_size=0.30)\n",
    "\n",
    "#print(X_train)\n",
    "#print(X_test)\n",
    "#print(Y_train)\n",
    "#print(Y_test)"
   ]
  },
  {
   "cell_type": "code",
   "execution_count": 305,
   "metadata": {},
   "outputs": [
    {
     "name": "stdout",
     "output_type": "stream",
     "text": [
      "\n",
      "\n",
      " Naive Bayes\n",
      "**************************************\n",
      "\n",
      "Classification Report:\n",
      "               precision    recall  f1-score   support\n",
      "\n",
      "           1       0.82      0.90      0.86        62\n",
      "           2       0.62      0.45      0.53        22\n",
      "\n",
      "    accuracy                           0.79        84\n",
      "   macro avg       0.72      0.68      0.69        84\n",
      "weighted avg       0.77      0.79      0.77        84\n",
      "\n",
      "\n",
      "Confussion matrix:\n",
      " [[56  6]\n",
      " [12 10]]\n",
      "Accuracy Score= 100.0 %\n",
      "Actual was: 2 Predicted was: 1\n",
      "Actual was: 1 Predicted was: 1\n",
      "Actual was: 1 Predicted was: 1\n",
      "Actual was: 1 Predicted was: 1\n",
      "Actual was: 1 Predicted was: 1\n",
      "Actual was: 2 Predicted was: 2\n",
      "Actual was: 1 Predicted was: 1\n",
      "Actual was: 1 Predicted was: 1\n",
      "Actual was: 1 Predicted was: 1\n",
      "Actual was: 2 Predicted was: 1\n",
      "Actual was: 1 Predicted was: 1\n",
      "Actual was: 1 Predicted was: 1\n",
      "Actual was: 1 Predicted was: 2\n",
      "Actual was: 1 Predicted was: 2\n",
      "Actual was: 1 Predicted was: 1\n",
      "Actual was: 1 Predicted was: 1\n",
      "Actual was: 2 Predicted was: 1\n",
      "Actual was: 1 Predicted was: 1\n",
      "Actual was: 1 Predicted was: 1\n",
      "Actual was: 2 Predicted was: 1\n",
      "Actual was: 2 Predicted was: 2\n",
      "Actual was: 1 Predicted was: 1\n",
      "Actual was: 1 Predicted was: 1\n",
      "Actual was: 1 Predicted was: 1\n",
      "Actual was: 2 Predicted was: 2\n",
      "Actual was: 1 Predicted was: 1\n",
      "Actual was: 1 Predicted was: 1\n",
      "Actual was: 1 Predicted was: 1\n",
      "Actual was: 1 Predicted was: 1\n",
      "Actual was: 1 Predicted was: 1\n",
      "Actual was: 1 Predicted was: 1\n",
      "Actual was: 1 Predicted was: 1\n",
      "Actual was: 2 Predicted was: 2\n",
      "Actual was: 1 Predicted was: 1\n",
      "Actual was: 1 Predicted was: 1\n",
      "Actual was: 1 Predicted was: 1\n",
      "Actual was: 2 Predicted was: 2\n",
      "Actual was: 1 Predicted was: 1\n",
      "Actual was: 1 Predicted was: 1\n",
      "Actual was: 1 Predicted was: 1\n",
      "Actual was: 1 Predicted was: 2\n",
      "Actual was: 1 Predicted was: 1\n",
      "Actual was: 1 Predicted was: 1\n",
      "Actual was: 2 Predicted was: 1\n",
      "Actual was: 2 Predicted was: 2\n",
      "Actual was: 1 Predicted was: 1\n",
      "Actual was: 1 Predicted was: 2\n",
      "Actual was: 1 Predicted was: 1\n",
      "Actual was: 1 Predicted was: 1\n",
      "Actual was: 2 Predicted was: 2\n",
      "Actual was: 1 Predicted was: 2\n",
      "Actual was: 2 Predicted was: 1\n",
      "Actual was: 1 Predicted was: 1\n",
      "Actual was: 1 Predicted was: 2\n",
      "Actual was: 1 Predicted was: 1\n",
      "Actual was: 1 Predicted was: 1\n",
      "Actual was: 2 Predicted was: 2\n",
      "Actual was: 1 Predicted was: 1\n",
      "Actual was: 1 Predicted was: 1\n",
      "Actual was: 2 Predicted was: 2\n",
      "Actual was: 1 Predicted was: 1\n",
      "Actual was: 2 Predicted was: 1\n",
      "Actual was: 1 Predicted was: 1\n",
      "Actual was: 2 Predicted was: 1\n",
      "Actual was: 2 Predicted was: 1\n",
      "Actual was: 2 Predicted was: 1\n",
      "Actual was: 2 Predicted was: 1\n",
      "Actual was: 1 Predicted was: 1\n",
      "Actual was: 1 Predicted was: 1\n",
      "Actual was: 1 Predicted was: 1\n",
      "Actual was: 1 Predicted was: 1\n",
      "Actual was: 2 Predicted was: 1\n",
      "Actual was: 1 Predicted was: 1\n",
      "Actual was: 1 Predicted was: 1\n",
      "Actual was: 1 Predicted was: 1\n",
      "Actual was: 1 Predicted was: 1\n",
      "Actual was: 1 Predicted was: 1\n",
      "Actual was: 1 Predicted was: 1\n",
      "Actual was: 1 Predicted was: 1\n",
      "Actual was: 1 Predicted was: 1\n",
      "Actual was: 2 Predicted was: 2\n",
      "Actual was: 1 Predicted was: 1\n",
      "Actual was: 1 Predicted was: 1\n",
      "Actual was: 1 Predicted was: 1\n"
     ]
    }
   ],
   "source": [
    "#using Naive Bayes classifier\n",
    "#model generation\n",
    "from sklearn.naive_bayes import GaussianNB\n",
    "\n",
    "print(\"\\n\\n Naive Bayes\")\n",
    "print(\"**************************************\")\n",
    "\n",
    "#creating a Gaussian classifier\n",
    "model = GaussianNB()\n",
    "\n",
    "#training the model using the training sets\n",
    "model.fit(X_train, Y_train)\n",
    "#print(model)\n",
    "\n",
    "#predict the response for test dataset\n",
    "y_predicted = model.predict(X_test)\n",
    "#print(y_predicted)\n",
    "\n",
    "print(\"\\nClassification Report:\\n\", metrics.classification_report(Y_test, y_predicted))\n",
    "print('\\nConfussion matrix:\\n', metrics.confusion_matrix(Y_test, y_predicted))\n",
    "\n",
    "#estimating the error//accuracy\n",
    "acc = model.score(X_test,Y_test)\n",
    "print(\"Accuracy Score=\", round(acc)*100, \"%\")\n",
    "\n",
    "#print the predicted vs actual values\n",
    "for i in zip(Y_test, y_predicted):\n",
    "    print(\"Actual was:\", i[0], \"Predicted was:\", i[1])\n"
   ]
  },
  {
   "cell_type": "code",
   "execution_count": 293,
   "metadata": {},
   "outputs": [
    {
     "name": "stdout",
     "output_type": "stream",
     "text": [
      "3.7.6\n"
     ]
    }
   ],
   "source": [
    "#checking the python version\n",
    "from platform import python_version\n",
    "print(python_version())"
   ]
  },
  {
   "cell_type": "code",
   "execution_count": null,
   "metadata": {},
   "outputs": [],
   "source": []
  }
 ],
 "metadata": {
  "kernelspec": {
   "display_name": "Python 3",
   "language": "python",
   "name": "python3"
  },
  "language_info": {
   "codemirror_mode": {
    "name": "ipython",
    "version": 3
   },
   "file_extension": ".py",
   "mimetype": "text/x-python",
   "name": "python",
   "nbconvert_exporter": "python",
   "pygments_lexer": "ipython3",
   "version": "3.7.6"
  }
 },
 "nbformat": 4,
 "nbformat_minor": 4
}
